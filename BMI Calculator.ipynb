{
 "cells": [
  {
   "cell_type": "markdown",
   "id": "6783a481-03ab-49a7-a18d-4b8a7e3efb4b",
   "metadata": {},
   "source": [
    "# BMI Calculator"
   ]
  },
  {
   "cell_type": "code",
   "execution_count": 10,
   "id": "c4bb1a4f-81ee-44ed-ac54-d5953b8294fc",
   "metadata": {},
   "outputs": [
    {
     "name": "stdin",
     "output_type": "stream",
     "text": [
      "Enter your Name:  Aniruddha\n",
      "Enter your Weight in KGs:  57.85\n",
      "Enter your Height in metre:  1.73\n"
     ]
    },
    {
     "name": "stdout",
     "output_type": "stream",
     "text": [
      "19.3290788198737\n",
      "Congratulations Aniruddha! you are in normal weight range. Maintain your maintainance Calorie.\n"
     ]
    }
   ],
   "source": [
    "name = input(\"Enter your Name: \")\n",
    "weight = float(input(\"Enter your Weight in KGs: \"))\n",
    "height = float(input(\"Enter your Height in metre: \"))\n",
    "\n",
    "BMI = (weight)/(height**2)\n",
    "print(BMI)\n",
    "\n",
    "if BMI > 0:\n",
    "    if(BMI < 18.5):\n",
    "        print(f\"{name}, you are underweight! Need to get into Caloric Surplus and exercise to build muscles.\")\n",
    "    elif(BMI <= 24.9):\n",
    "        print(f\"Congratulations {name}! you are in normal weight range. Maintain your maintainance Calorie.\")\n",
    "    elif(BMI < 29.9):\n",
    "        print(f\"{name}, you are overweight. You need to get into Caloric deficit and start exercising to get into Normal range.\")\n",
    "    elif(BMI < 34.9):\n",
    "        print(f\"{name}, you are obese. Need to start cutting back on food before it's too late and get active.\")\n",
    "    elif(BMI < 39.9):\n",
    "        print(f\"{name}, you are morbidly obese. Need Doctor consultation and get on a healthy diet as soon as possible.\")\n",
    "else:\n",
    "    print(\"Enter valid data!\")"
   ]
  },
  {
   "cell_type": "code",
   "execution_count": null,
   "id": "55ead81a-2abb-4825-95a5-9a61c3cebacf",
   "metadata": {},
   "outputs": [],
   "source": []
  }
 ],
 "metadata": {
  "kernelspec": {
   "display_name": "Python 3 (ipykernel)",
   "language": "python",
   "name": "python3"
  },
  "language_info": {
   "codemirror_mode": {
    "name": "ipython",
    "version": 3
   },
   "file_extension": ".py",
   "mimetype": "text/x-python",
   "name": "python",
   "nbconvert_exporter": "python",
   "pygments_lexer": "ipython3",
   "version": "3.11.7"
  }
 },
 "nbformat": 4,
 "nbformat_minor": 5
}
