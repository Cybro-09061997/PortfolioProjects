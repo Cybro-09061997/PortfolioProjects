{
 "cells": [
  {
   "cell_type": "markdown",
   "id": "211d8477-cafb-48b1-aa26-304fcaa3d8eb",
   "metadata": {},
   "source": [
    "# Automatic File Sorter in File Explorer"
   ]
  },
  {
   "cell_type": "code",
   "execution_count": 2,
   "id": "0f668308-a9bc-46db-b9ad-95c25722ad9d",
   "metadata": {},
   "outputs": [],
   "source": [
    "import os,shutil"
   ]
  },
  {
   "cell_type": "code",
   "execution_count": 4,
   "id": "f3607d99-a8b0-4f68-aea8-f426a5568fb6",
   "metadata": {},
   "outputs": [],
   "source": [
    "path = r\"D:/Data Analysis/Python/File_Sorter_Project/\""
   ]
  },
  {
   "cell_type": "code",
   "execution_count": 12,
   "id": "a36932a3-17bb-4d56-906b-211425684df7",
   "metadata": {},
   "outputs": [],
   "source": [
    "file_name = os.listdir(path)"
   ]
  },
  {
   "cell_type": "code",
   "execution_count": 18,
   "id": "6165d794-94db-4e0a-9064-ff742a241cd4",
   "metadata": {},
   "outputs": [],
   "source": [
    "folder_names = ['Excel File', 'Word File', 'Image File', 'Random File']\n",
    "for loop in range(len(folder_names)):\n",
    "    if not os.path.exists(path + folder_names[loop]):\n",
    "        os.makedirs(path + folder_names[loop])\n",
    "\n",
    "for file in file_name:\n",
    "    if \".jpg\" in file and not os.path.exists(path + \"Image File/\" + file):\n",
    "        shutil.move(path + file, path + \"Image File/\" + file)\n",
    "    elif \".xlsx\" in file and not os.path.exists(path + \"Excel File/\" + file):\n",
    "        shutil.move(path + file, path + \"Excel File/\" + file)\n",
    "    elif \".docx\" in file and not os.path.exists(path + \"Word File/\" + file):\n",
    "        shutil.move(path + file, path + \"Word File/\" + file)\n",
    "    else:\n",
    "        shutil.move(path + file, path + \"Random File/\" + file)"
   ]
  },
  {
   "cell_type": "code",
   "execution_count": null,
   "id": "de97470a-6370-44a0-b446-3834cf7afb74",
   "metadata": {},
   "outputs": [],
   "source": []
  }
 ],
 "metadata": {
  "kernelspec": {
   "display_name": "Python 3 (ipykernel)",
   "language": "python",
   "name": "python3"
  },
  "language_info": {
   "codemirror_mode": {
    "name": "ipython",
    "version": 3
   },
   "file_extension": ".py",
   "mimetype": "text/x-python",
   "name": "python",
   "nbconvert_exporter": "python",
   "pygments_lexer": "ipython3",
   "version": "3.11.7"
  }
 },
 "nbformat": 4,
 "nbformat_minor": 5
}
